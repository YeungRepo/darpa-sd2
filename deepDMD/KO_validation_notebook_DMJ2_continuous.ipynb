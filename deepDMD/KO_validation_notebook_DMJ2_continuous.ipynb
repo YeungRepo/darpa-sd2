{
 "cells": [
  {
   "cell_type": "code",
   "execution_count": 1,
   "metadata": {},
   "outputs": [],
   "source": [
    "from matplotlib import pyplot as plt\n",
    "import matplotlib\n",
    "from sklearn import preprocessing\n",
    "import os\n",
    "import numpy as np\n",
    "import random as rd\n",
    "import tensorflow as tf \n",
    "tf.compat.v1.disable_eager_execution()\n",
    "sess  = tf.compat.v1.InteractiveSession()\n",
    "from scipy.integrate import odeint\n",
    "import pickle\n",
    "from sklearn.preprocessing import StandardScaler\n",
    "from scipy.signal import savgol_filter\n",
    "import scipy\n",
    "import joblib\n",
    "from mpl_toolkits import mplot3d\n",
    "\n",
    "from scipy.optimize import curve_fit\n",
    "from mpl_toolkits.mplot3d import Axes3D\n"
   ]
  },
  {
   "cell_type": "code",
   "execution_count": 2,
   "metadata": {},
   "outputs": [],
   "source": [
    "# Number of time points we want for the solutions\n",
    "n = 101\n",
    "\n",
    "# Time points we want for the solution\n",
    "t = np.linspace(0, 20, n)\n",
    "\n",
    "# Parameters\n",
    "beta_y = 5.0\n",
    "beta_z = 5.0\n",
    "gamma = 1.0\n",
    "n_x = 2\n",
    "n_y = 3\n",
    "x_0 = 2.0\n",
    "Km1 = 1\n",
    "Km2 = 2\n",
    "delta = 0.18\n",
    "\n",
    "# Package parameters into a tuple\n",
    "args = (beta_y, beta_z, gamma, n_x, n_y, Km1, Km2, delta, x_0)\n",
    "\n",
    "def toggle_switch(yz, t, beta_y, beta_z, gamma, n_x, n_y, Km1, Km2, delta, x):\n",
    "    \"\"\"\n",
    "    Right hand side for cascade X -> Y -> Z.  Return dy/dt and dz/dt.\n",
    "    \"\"\"\n",
    "    # Unpack y and z\n",
    "    y, z = yz\n",
    "    \n",
    "    # Compute dy/dt\n",
    "    dy_dt = beta_y/ (Km1 + z**n_x) - delta*y\n",
    "    \n",
    "    # Compute dz/dt\n",
    "    dz_dt = gamma * (beta_z/ (Km2 + y**n_y) - delta*z)\n",
    "    \n",
    "    # Return the result as a NumPy array\n",
    "    return np.array([dy_dt, dz_dt])"
   ]
  },
  {
   "cell_type": "code",
   "execution_count": 3,
   "metadata": {},
   "outputs": [
    {
     "name": "stderr",
     "output_type": "stream",
     "text": [
      "/Users/dennisjoshy/anaconda3/lib/python3.7/site-packages/tensorflow_core/python/client/session.py:1750: UserWarning: An interactive session is already active. This can cause out-of-memory errors in some cases. You must explicitly call `InteractiveSession.close()` to release resources held by the other session(s).\n",
      "  warnings.warn('An interactive session is already active. This can '\n"
     ]
    },
    {
     "name": "stdout",
     "output_type": "stream",
     "text": [
      "INFO:tensorflow:Restoring parameters from Checkpoint_files/Toggle_switch_DMJ_BFS.pickle.ckpt\n"
     ]
    },
    {
     "ename": "InvalidArgumentError",
     "evalue": "_MklConcatOp : Dimensions of inputs should match: shape[0][0]= 13 vs. shape[1][0] = 5\n\t [[node concat_5 (defined at /Users/dennisjoshy/anaconda3/lib/python3.7/site-packages/tensorflow_core/python/framework/ops.py:1751) ]]\n\nOriginal stack trace for 'concat_5':\n  File \"/Users/dennisjoshy/anaconda3/lib/python3.7/runpy.py\", line 193, in _run_module_as_main\n    \"__main__\", mod_spec)\n  File \"/Users/dennisjoshy/anaconda3/lib/python3.7/runpy.py\", line 85, in _run_code\n    exec(code, run_globals)\n  File \"/Users/dennisjoshy/anaconda3/lib/python3.7/site-packages/ipykernel_launcher.py\", line 16, in <module>\n    app.launch_new_instance()\n  File \"/Users/dennisjoshy/anaconda3/lib/python3.7/site-packages/traitlets/config/application.py\", line 664, in launch_instance\n    app.start()\n  File \"/Users/dennisjoshy/anaconda3/lib/python3.7/site-packages/ipykernel/kernelapp.py\", line 563, in start\n    self.io_loop.start()\n  File \"/Users/dennisjoshy/anaconda3/lib/python3.7/site-packages/tornado/platform/asyncio.py\", line 148, in start\n    self.asyncio_loop.run_forever()\n  File \"/Users/dennisjoshy/anaconda3/lib/python3.7/asyncio/base_events.py\", line 534, in run_forever\n    self._run_once()\n  File \"/Users/dennisjoshy/anaconda3/lib/python3.7/asyncio/base_events.py\", line 1771, in _run_once\n    handle._run()\n  File \"/Users/dennisjoshy/anaconda3/lib/python3.7/asyncio/events.py\", line 88, in _run\n    self._context.run(self._callback, *self._args)\n  File \"/Users/dennisjoshy/anaconda3/lib/python3.7/site-packages/tornado/ioloop.py\", line 690, in <lambda>\n    lambda f: self._run_callback(functools.partial(callback, future))\n  File \"/Users/dennisjoshy/anaconda3/lib/python3.7/site-packages/tornado/ioloop.py\", line 743, in _run_callback\n    ret = callback()\n  File \"/Users/dennisjoshy/anaconda3/lib/python3.7/site-packages/tornado/gen.py\", line 787, in inner\n    self.run()\n  File \"/Users/dennisjoshy/anaconda3/lib/python3.7/site-packages/tornado/gen.py\", line 748, in run\n    yielded = self.gen.send(value)\n  File \"/Users/dennisjoshy/anaconda3/lib/python3.7/site-packages/ipykernel/kernelbase.py\", line 365, in process_one\n    yield gen.maybe_future(dispatch(*args))\n  File \"/Users/dennisjoshy/anaconda3/lib/python3.7/site-packages/tornado/gen.py\", line 209, in wrapper\n    yielded = next(result)\n  File \"/Users/dennisjoshy/anaconda3/lib/python3.7/site-packages/ipykernel/kernelbase.py\", line 272, in dispatch_shell\n    yield gen.maybe_future(handler(stream, idents, msg))\n  File \"/Users/dennisjoshy/anaconda3/lib/python3.7/site-packages/tornado/gen.py\", line 209, in wrapper\n    yielded = next(result)\n  File \"/Users/dennisjoshy/anaconda3/lib/python3.7/site-packages/ipykernel/kernelbase.py\", line 542, in execute_request\n    user_expressions, allow_stdin,\n  File \"/Users/dennisjoshy/anaconda3/lib/python3.7/site-packages/tornado/gen.py\", line 209, in wrapper\n    yielded = next(result)\n  File \"/Users/dennisjoshy/anaconda3/lib/python3.7/site-packages/ipykernel/ipkernel.py\", line 294, in do_execute\n    res = shell.run_cell(code, store_history=store_history, silent=silent)\n  File \"/Users/dennisjoshy/anaconda3/lib/python3.7/site-packages/ipykernel/zmqshell.py\", line 536, in run_cell\n    return super(ZMQInteractiveShell, self).run_cell(*args, **kwargs)\n  File \"/Users/dennisjoshy/anaconda3/lib/python3.7/site-packages/IPython/core/interactiveshell.py\", line 2855, in run_cell\n    raw_cell, store_history, silent, shell_futures)\n  File \"/Users/dennisjoshy/anaconda3/lib/python3.7/site-packages/IPython/core/interactiveshell.py\", line 2881, in _run_cell\n    return runner(coro)\n  File \"/Users/dennisjoshy/anaconda3/lib/python3.7/site-packages/IPython/core/async_helpers.py\", line 68, in _pseudo_sync_runner\n    coro.send(None)\n  File \"/Users/dennisjoshy/anaconda3/lib/python3.7/site-packages/IPython/core/interactiveshell.py\", line 3058, in run_cell_async\n    interactivity=interactivity, compiler=compiler, result=result)\n  File \"/Users/dennisjoshy/anaconda3/lib/python3.7/site-packages/IPython/core/interactiveshell.py\", line 3249, in run_ast_nodes\n    if (await self.run_code(code, result,  async_=asy)):\n  File \"/Users/dennisjoshy/anaconda3/lib/python3.7/site-packages/IPython/core/interactiveshell.py\", line 3326, in run_code\n    exec(code_obj, self.user_global_ns, self.user_ns)\n  File \"<ipython-input-3-4f8c6a0c3f1e>\", line 2, in <module>\n    saver = tf.compat.v1.train.import_meta_graph('Checkpoint_files/Toggle_switch_DMJ.pickle.ckpt.meta', clear_devices=True)\n  File \"/Users/dennisjoshy/anaconda3/lib/python3.7/site-packages/tensorflow_core/python/training/saver.py\", line 1453, in import_meta_graph\n    **kwargs)[0]\n  File \"/Users/dennisjoshy/anaconda3/lib/python3.7/site-packages/tensorflow_core/python/training/saver.py\", line 1477, in _import_meta_graph_with_return_elements\n    **kwargs))\n  File \"/Users/dennisjoshy/anaconda3/lib/python3.7/site-packages/tensorflow_core/python/framework/meta_graph.py\", line 809, in import_scoped_meta_graph_with_return_elements\n    return_elements=return_elements)\n  File \"/Users/dennisjoshy/anaconda3/lib/python3.7/site-packages/tensorflow_core/python/util/deprecation.py\", line 507, in new_func\n    return func(*args, **kwargs)\n  File \"/Users/dennisjoshy/anaconda3/lib/python3.7/site-packages/tensorflow_core/python/framework/importer.py\", line 405, in import_graph_def\n    producer_op_list=producer_op_list)\n  File \"/Users/dennisjoshy/anaconda3/lib/python3.7/site-packages/tensorflow_core/python/framework/importer.py\", line 517, in _import_graph_def_internal\n    _ProcessNewOps(graph)\n  File \"/Users/dennisjoshy/anaconda3/lib/python3.7/site-packages/tensorflow_core/python/framework/importer.py\", line 243, in _ProcessNewOps\n    for new_op in graph._add_new_tf_operations(compute_devices=False):  # pylint: disable=protected-access\n  File \"/Users/dennisjoshy/anaconda3/lib/python3.7/site-packages/tensorflow_core/python/framework/ops.py\", line 3564, in _add_new_tf_operations\n    for c_op in c_api_util.new_tf_operations(self)\n  File \"/Users/dennisjoshy/anaconda3/lib/python3.7/site-packages/tensorflow_core/python/framework/ops.py\", line 3564, in <listcomp>\n    for c_op in c_api_util.new_tf_operations(self)\n  File \"/Users/dennisjoshy/anaconda3/lib/python3.7/site-packages/tensorflow_core/python/framework/ops.py\", line 3454, in _create_op_from_tf_operation\n    ret = Operation(c_op, self)\n  File \"/Users/dennisjoshy/anaconda3/lib/python3.7/site-packages/tensorflow_core/python/framework/ops.py\", line 1751, in __init__\n    self._traceback = tf_stack.extract_stack()\n",
     "output_type": "error",
     "traceback": [
      "\u001b[0;31m---------------------------------------------------------------------------\u001b[0m",
      "\u001b[0;31mInvalidArgumentError\u001b[0m                      Traceback (most recent call last)",
      "\u001b[0;32m~/anaconda3/lib/python3.7/site-packages/tensorflow_core/python/client/session.py\u001b[0m in \u001b[0;36m_do_call\u001b[0;34m(self, fn, *args)\u001b[0m\n\u001b[1;32m   1364\u001b[0m     \u001b[0;32mtry\u001b[0m\u001b[0;34m:\u001b[0m\u001b[0;34m\u001b[0m\u001b[0;34m\u001b[0m\u001b[0m\n\u001b[0;32m-> 1365\u001b[0;31m       \u001b[0;32mreturn\u001b[0m \u001b[0mfn\u001b[0m\u001b[0;34m(\u001b[0m\u001b[0;34m*\u001b[0m\u001b[0margs\u001b[0m\u001b[0;34m)\u001b[0m\u001b[0;34m\u001b[0m\u001b[0;34m\u001b[0m\u001b[0m\n\u001b[0m\u001b[1;32m   1366\u001b[0m     \u001b[0;32mexcept\u001b[0m \u001b[0merrors\u001b[0m\u001b[0;34m.\u001b[0m\u001b[0mOpError\u001b[0m \u001b[0;32mas\u001b[0m \u001b[0me\u001b[0m\u001b[0;34m:\u001b[0m\u001b[0;34m\u001b[0m\u001b[0;34m\u001b[0m\u001b[0m\n",
      "\u001b[0;32m~/anaconda3/lib/python3.7/site-packages/tensorflow_core/python/client/session.py\u001b[0m in \u001b[0;36m_run_fn\u001b[0;34m(feed_dict, fetch_list, target_list, options, run_metadata)\u001b[0m\n\u001b[1;32m   1349\u001b[0m       return self._call_tf_sessionrun(options, feed_dict, fetch_list,\n\u001b[0;32m-> 1350\u001b[0;31m                                       target_list, run_metadata)\n\u001b[0m\u001b[1;32m   1351\u001b[0m \u001b[0;34m\u001b[0m\u001b[0m\n",
      "\u001b[0;32m~/anaconda3/lib/python3.7/site-packages/tensorflow_core/python/client/session.py\u001b[0m in \u001b[0;36m_call_tf_sessionrun\u001b[0;34m(self, options, feed_dict, fetch_list, target_list, run_metadata)\u001b[0m\n\u001b[1;32m   1442\u001b[0m                                             \u001b[0mfetch_list\u001b[0m\u001b[0;34m,\u001b[0m \u001b[0mtarget_list\u001b[0m\u001b[0;34m,\u001b[0m\u001b[0;34m\u001b[0m\u001b[0;34m\u001b[0m\u001b[0m\n\u001b[0;32m-> 1443\u001b[0;31m                                             run_metadata)\n\u001b[0m\u001b[1;32m   1444\u001b[0m \u001b[0;34m\u001b[0m\u001b[0m\n",
      "\u001b[0;31mInvalidArgumentError\u001b[0m: _MklConcatOp : Dimensions of inputs should match: shape[0][0]= 13 vs. shape[1][0] = 5\n\t [[{{node concat_5}}]]",
      "\nDuring handling of the above exception, another exception occurred:\n",
      "\u001b[0;31mInvalidArgumentError\u001b[0m                      Traceback (most recent call last)",
      "\u001b[0;32m<ipython-input-3-4f8c6a0c3f1e>\u001b[0m in \u001b[0;36m<module>\u001b[0;34m\u001b[0m\n\u001b[1;32m     11\u001b[0m \u001b[0mxfT_feed\u001b[0m \u001b[0;34m=\u001b[0m \u001b[0mtf\u001b[0m\u001b[0;34m.\u001b[0m\u001b[0mcompat\u001b[0m\u001b[0;34m.\u001b[0m\u001b[0mv1\u001b[0m\u001b[0;34m.\u001b[0m\u001b[0mget_collection\u001b[0m\u001b[0;34m(\u001b[0m\u001b[0;34m'yf_feed'\u001b[0m\u001b[0;34m)\u001b[0m\u001b[0;34m[\u001b[0m\u001b[0;36m0\u001b[0m\u001b[0;34m]\u001b[0m\u001b[0;34m\u001b[0m\u001b[0;34m\u001b[0m\u001b[0m\n\u001b[1;32m     12\u001b[0m \u001b[0mKxT\u001b[0m \u001b[0;34m=\u001b[0m \u001b[0mtf\u001b[0m\u001b[0;34m.\u001b[0m\u001b[0mcompat\u001b[0m\u001b[0;34m.\u001b[0m\u001b[0mv1\u001b[0m\u001b[0;34m.\u001b[0m\u001b[0mget_collection\u001b[0m\u001b[0;34m(\u001b[0m\u001b[0;34m'Kx'\u001b[0m\u001b[0;34m)\u001b[0m\u001b[0;34m[\u001b[0m\u001b[0;36m0\u001b[0m\u001b[0;34m]\u001b[0m\u001b[0;34m\u001b[0m\u001b[0;34m\u001b[0m\u001b[0m\n\u001b[0;32m---> 13\u001b[0;31m \u001b[0mKxT_num\u001b[0m \u001b[0;34m=\u001b[0m \u001b[0msess1\u001b[0m\u001b[0;34m.\u001b[0m\u001b[0mrun\u001b[0m\u001b[0;34m(\u001b[0m\u001b[0mKxT\u001b[0m\u001b[0;34m)\u001b[0m\u001b[0;34m\u001b[0m\u001b[0;34m\u001b[0m\u001b[0m\n\u001b[0m",
      "\u001b[0;32m~/anaconda3/lib/python3.7/site-packages/tensorflow_core/python/client/session.py\u001b[0m in \u001b[0;36mrun\u001b[0;34m(self, fetches, feed_dict, options, run_metadata)\u001b[0m\n\u001b[1;32m    954\u001b[0m     \u001b[0;32mtry\u001b[0m\u001b[0;34m:\u001b[0m\u001b[0;34m\u001b[0m\u001b[0;34m\u001b[0m\u001b[0m\n\u001b[1;32m    955\u001b[0m       result = self._run(None, fetches, feed_dict, options_ptr,\n\u001b[0;32m--> 956\u001b[0;31m                          run_metadata_ptr)\n\u001b[0m\u001b[1;32m    957\u001b[0m       \u001b[0;32mif\u001b[0m \u001b[0mrun_metadata\u001b[0m\u001b[0;34m:\u001b[0m\u001b[0;34m\u001b[0m\u001b[0;34m\u001b[0m\u001b[0m\n\u001b[1;32m    958\u001b[0m         \u001b[0mproto_data\u001b[0m \u001b[0;34m=\u001b[0m \u001b[0mtf_session\u001b[0m\u001b[0;34m.\u001b[0m\u001b[0mTF_GetBuffer\u001b[0m\u001b[0;34m(\u001b[0m\u001b[0mrun_metadata_ptr\u001b[0m\u001b[0;34m)\u001b[0m\u001b[0;34m\u001b[0m\u001b[0;34m\u001b[0m\u001b[0m\n",
      "\u001b[0;32m~/anaconda3/lib/python3.7/site-packages/tensorflow_core/python/client/session.py\u001b[0m in \u001b[0;36m_run\u001b[0;34m(self, handle, fetches, feed_dict, options, run_metadata)\u001b[0m\n\u001b[1;32m   1178\u001b[0m     \u001b[0;32mif\u001b[0m \u001b[0mfinal_fetches\u001b[0m \u001b[0;32mor\u001b[0m \u001b[0mfinal_targets\u001b[0m \u001b[0;32mor\u001b[0m \u001b[0;34m(\u001b[0m\u001b[0mhandle\u001b[0m \u001b[0;32mand\u001b[0m \u001b[0mfeed_dict_tensor\u001b[0m\u001b[0;34m)\u001b[0m\u001b[0;34m:\u001b[0m\u001b[0;34m\u001b[0m\u001b[0;34m\u001b[0m\u001b[0m\n\u001b[1;32m   1179\u001b[0m       results = self._do_run(handle, final_targets, final_fetches,\n\u001b[0;32m-> 1180\u001b[0;31m                              feed_dict_tensor, options, run_metadata)\n\u001b[0m\u001b[1;32m   1181\u001b[0m     \u001b[0;32melse\u001b[0m\u001b[0;34m:\u001b[0m\u001b[0;34m\u001b[0m\u001b[0;34m\u001b[0m\u001b[0m\n\u001b[1;32m   1182\u001b[0m       \u001b[0mresults\u001b[0m \u001b[0;34m=\u001b[0m \u001b[0;34m[\u001b[0m\u001b[0;34m]\u001b[0m\u001b[0;34m\u001b[0m\u001b[0;34m\u001b[0m\u001b[0m\n",
      "\u001b[0;32m~/anaconda3/lib/python3.7/site-packages/tensorflow_core/python/client/session.py\u001b[0m in \u001b[0;36m_do_run\u001b[0;34m(self, handle, target_list, fetch_list, feed_dict, options, run_metadata)\u001b[0m\n\u001b[1;32m   1357\u001b[0m     \u001b[0;32mif\u001b[0m \u001b[0mhandle\u001b[0m \u001b[0;32mis\u001b[0m \u001b[0;32mNone\u001b[0m\u001b[0;34m:\u001b[0m\u001b[0;34m\u001b[0m\u001b[0;34m\u001b[0m\u001b[0m\n\u001b[1;32m   1358\u001b[0m       return self._do_call(_run_fn, feeds, fetches, targets, options,\n\u001b[0;32m-> 1359\u001b[0;31m                            run_metadata)\n\u001b[0m\u001b[1;32m   1360\u001b[0m     \u001b[0;32melse\u001b[0m\u001b[0;34m:\u001b[0m\u001b[0;34m\u001b[0m\u001b[0;34m\u001b[0m\u001b[0m\n\u001b[1;32m   1361\u001b[0m       \u001b[0;32mreturn\u001b[0m \u001b[0mself\u001b[0m\u001b[0;34m.\u001b[0m\u001b[0m_do_call\u001b[0m\u001b[0;34m(\u001b[0m\u001b[0m_prun_fn\u001b[0m\u001b[0;34m,\u001b[0m \u001b[0mhandle\u001b[0m\u001b[0;34m,\u001b[0m \u001b[0mfeeds\u001b[0m\u001b[0;34m,\u001b[0m \u001b[0mfetches\u001b[0m\u001b[0;34m)\u001b[0m\u001b[0;34m\u001b[0m\u001b[0;34m\u001b[0m\u001b[0m\n",
      "\u001b[0;32m~/anaconda3/lib/python3.7/site-packages/tensorflow_core/python/client/session.py\u001b[0m in \u001b[0;36m_do_call\u001b[0;34m(self, fn, *args)\u001b[0m\n\u001b[1;32m   1382\u001b[0m                     \u001b[0;34m'\\nsession_config.graph_options.rewrite_options.'\u001b[0m\u001b[0;34m\u001b[0m\u001b[0;34m\u001b[0m\u001b[0m\n\u001b[1;32m   1383\u001b[0m                     'disable_meta_optimizer = True')\n\u001b[0;32m-> 1384\u001b[0;31m       \u001b[0;32mraise\u001b[0m \u001b[0mtype\u001b[0m\u001b[0;34m(\u001b[0m\u001b[0me\u001b[0m\u001b[0;34m)\u001b[0m\u001b[0;34m(\u001b[0m\u001b[0mnode_def\u001b[0m\u001b[0;34m,\u001b[0m \u001b[0mop\u001b[0m\u001b[0;34m,\u001b[0m \u001b[0mmessage\u001b[0m\u001b[0;34m)\u001b[0m\u001b[0;34m\u001b[0m\u001b[0;34m\u001b[0m\u001b[0m\n\u001b[0m\u001b[1;32m   1385\u001b[0m \u001b[0;34m\u001b[0m\u001b[0m\n\u001b[1;32m   1386\u001b[0m   \u001b[0;32mdef\u001b[0m \u001b[0m_extend_graph\u001b[0m\u001b[0;34m(\u001b[0m\u001b[0mself\u001b[0m\u001b[0;34m)\u001b[0m\u001b[0;34m:\u001b[0m\u001b[0;34m\u001b[0m\u001b[0;34m\u001b[0m\u001b[0m\n",
      "\u001b[0;31mInvalidArgumentError\u001b[0m: _MklConcatOp : Dimensions of inputs should match: shape[0][0]= 13 vs. shape[1][0] = 5\n\t [[node concat_5 (defined at /Users/dennisjoshy/anaconda3/lib/python3.7/site-packages/tensorflow_core/python/framework/ops.py:1751) ]]\n\nOriginal stack trace for 'concat_5':\n  File \"/Users/dennisjoshy/anaconda3/lib/python3.7/runpy.py\", line 193, in _run_module_as_main\n    \"__main__\", mod_spec)\n  File \"/Users/dennisjoshy/anaconda3/lib/python3.7/runpy.py\", line 85, in _run_code\n    exec(code, run_globals)\n  File \"/Users/dennisjoshy/anaconda3/lib/python3.7/site-packages/ipykernel_launcher.py\", line 16, in <module>\n    app.launch_new_instance()\n  File \"/Users/dennisjoshy/anaconda3/lib/python3.7/site-packages/traitlets/config/application.py\", line 664, in launch_instance\n    app.start()\n  File \"/Users/dennisjoshy/anaconda3/lib/python3.7/site-packages/ipykernel/kernelapp.py\", line 563, in start\n    self.io_loop.start()\n  File \"/Users/dennisjoshy/anaconda3/lib/python3.7/site-packages/tornado/platform/asyncio.py\", line 148, in start\n    self.asyncio_loop.run_forever()\n  File \"/Users/dennisjoshy/anaconda3/lib/python3.7/asyncio/base_events.py\", line 534, in run_forever\n    self._run_once()\n  File \"/Users/dennisjoshy/anaconda3/lib/python3.7/asyncio/base_events.py\", line 1771, in _run_once\n    handle._run()\n  File \"/Users/dennisjoshy/anaconda3/lib/python3.7/asyncio/events.py\", line 88, in _run\n    self._context.run(self._callback, *self._args)\n  File \"/Users/dennisjoshy/anaconda3/lib/python3.7/site-packages/tornado/ioloop.py\", line 690, in <lambda>\n    lambda f: self._run_callback(functools.partial(callback, future))\n  File \"/Users/dennisjoshy/anaconda3/lib/python3.7/site-packages/tornado/ioloop.py\", line 743, in _run_callback\n    ret = callback()\n  File \"/Users/dennisjoshy/anaconda3/lib/python3.7/site-packages/tornado/gen.py\", line 787, in inner\n    self.run()\n  File \"/Users/dennisjoshy/anaconda3/lib/python3.7/site-packages/tornado/gen.py\", line 748, in run\n    yielded = self.gen.send(value)\n  File \"/Users/dennisjoshy/anaconda3/lib/python3.7/site-packages/ipykernel/kernelbase.py\", line 365, in process_one\n    yield gen.maybe_future(dispatch(*args))\n  File \"/Users/dennisjoshy/anaconda3/lib/python3.7/site-packages/tornado/gen.py\", line 209, in wrapper\n    yielded = next(result)\n  File \"/Users/dennisjoshy/anaconda3/lib/python3.7/site-packages/ipykernel/kernelbase.py\", line 272, in dispatch_shell\n    yield gen.maybe_future(handler(stream, idents, msg))\n  File \"/Users/dennisjoshy/anaconda3/lib/python3.7/site-packages/tornado/gen.py\", line 209, in wrapper\n    yielded = next(result)\n  File \"/Users/dennisjoshy/anaconda3/lib/python3.7/site-packages/ipykernel/kernelbase.py\", line 542, in execute_request\n    user_expressions, allow_stdin,\n  File \"/Users/dennisjoshy/anaconda3/lib/python3.7/site-packages/tornado/gen.py\", line 209, in wrapper\n    yielded = next(result)\n  File \"/Users/dennisjoshy/anaconda3/lib/python3.7/site-packages/ipykernel/ipkernel.py\", line 294, in do_execute\n    res = shell.run_cell(code, store_history=store_history, silent=silent)\n  File \"/Users/dennisjoshy/anaconda3/lib/python3.7/site-packages/ipykernel/zmqshell.py\", line 536, in run_cell\n    return super(ZMQInteractiveShell, self).run_cell(*args, **kwargs)\n  File \"/Users/dennisjoshy/anaconda3/lib/python3.7/site-packages/IPython/core/interactiveshell.py\", line 2855, in run_cell\n    raw_cell, store_history, silent, shell_futures)\n  File \"/Users/dennisjoshy/anaconda3/lib/python3.7/site-packages/IPython/core/interactiveshell.py\", line 2881, in _run_cell\n    return runner(coro)\n  File \"/Users/dennisjoshy/anaconda3/lib/python3.7/site-packages/IPython/core/async_helpers.py\", line 68, in _pseudo_sync_runner\n    coro.send(None)\n  File \"/Users/dennisjoshy/anaconda3/lib/python3.7/site-packages/IPython/core/interactiveshell.py\", line 3058, in run_cell_async\n    interactivity=interactivity, compiler=compiler, result=result)\n  File \"/Users/dennisjoshy/anaconda3/lib/python3.7/site-packages/IPython/core/interactiveshell.py\", line 3249, in run_ast_nodes\n    if (await self.run_code(code, result,  async_=asy)):\n  File \"/Users/dennisjoshy/anaconda3/lib/python3.7/site-packages/IPython/core/interactiveshell.py\", line 3326, in run_code\n    exec(code_obj, self.user_global_ns, self.user_ns)\n  File \"<ipython-input-3-4f8c6a0c3f1e>\", line 2, in <module>\n    saver = tf.compat.v1.train.import_meta_graph('Checkpoint_files/Toggle_switch_DMJ.pickle.ckpt.meta', clear_devices=True)\n  File \"/Users/dennisjoshy/anaconda3/lib/python3.7/site-packages/tensorflow_core/python/training/saver.py\", line 1453, in import_meta_graph\n    **kwargs)[0]\n  File \"/Users/dennisjoshy/anaconda3/lib/python3.7/site-packages/tensorflow_core/python/training/saver.py\", line 1477, in _import_meta_graph_with_return_elements\n    **kwargs))\n  File \"/Users/dennisjoshy/anaconda3/lib/python3.7/site-packages/tensorflow_core/python/framework/meta_graph.py\", line 809, in import_scoped_meta_graph_with_return_elements\n    return_elements=return_elements)\n  File \"/Users/dennisjoshy/anaconda3/lib/python3.7/site-packages/tensorflow_core/python/util/deprecation.py\", line 507, in new_func\n    return func(*args, **kwargs)\n  File \"/Users/dennisjoshy/anaconda3/lib/python3.7/site-packages/tensorflow_core/python/framework/importer.py\", line 405, in import_graph_def\n    producer_op_list=producer_op_list)\n  File \"/Users/dennisjoshy/anaconda3/lib/python3.7/site-packages/tensorflow_core/python/framework/importer.py\", line 517, in _import_graph_def_internal\n    _ProcessNewOps(graph)\n  File \"/Users/dennisjoshy/anaconda3/lib/python3.7/site-packages/tensorflow_core/python/framework/importer.py\", line 243, in _ProcessNewOps\n    for new_op in graph._add_new_tf_operations(compute_devices=False):  # pylint: disable=protected-access\n  File \"/Users/dennisjoshy/anaconda3/lib/python3.7/site-packages/tensorflow_core/python/framework/ops.py\", line 3564, in _add_new_tf_operations\n    for c_op in c_api_util.new_tf_operations(self)\n  File \"/Users/dennisjoshy/anaconda3/lib/python3.7/site-packages/tensorflow_core/python/framework/ops.py\", line 3564, in <listcomp>\n    for c_op in c_api_util.new_tf_operations(self)\n  File \"/Users/dennisjoshy/anaconda3/lib/python3.7/site-packages/tensorflow_core/python/framework/ops.py\", line 3454, in _create_op_from_tf_operation\n    ret = Operation(c_op, self)\n  File \"/Users/dennisjoshy/anaconda3/lib/python3.7/site-packages/tensorflow_core/python/framework/ops.py\", line 1751, in __init__\n    self._traceback = tf_stack.extract_stack()\n"
     ]
    }
   ],
   "source": [
    "sess1 = tf.compat.v1.InteractiveSession()\n",
    "saver = tf.compat.v1.train.import_meta_graph('Checkpoint_files/Toggle_switch_DMJ.pickle.ckpt.meta', clear_devices=True)\n",
    "saver.restore(sess1, tf.train.latest_checkpoint('Checkpoint_files'))\n",
    "\n",
    "scaler_filename = 'Checkpoint_files/Toggle_Switch_DMJ_scaler.save'\n",
    "scaler = joblib.load(scaler_filename) \n",
    "\n",
    "psixpT = tf.compat.v1.get_collection('psiyp')[0]\n",
    "psixfT = tf.compat.v1.get_collection('psiyf')[0]\n",
    "xpT_feed = tf.compat.v1.get_collection('yp_feed')[0]\n",
    "xfT_feed = tf.compat.v1.get_collection('yf_feed')[0]\n",
    "KxT = tf.compat.v1.get_collection('Kx')[0]\n",
    "KxT_num = sess1.run(KxT)\n"
   ]
  },
  {
   "cell_type": "code",
   "execution_count": null,
   "metadata": {},
   "outputs": [],
   "source": [
    "KxT_num"
   ]
  },
  {
   "cell_type": "code",
   "execution_count": null,
   "metadata": {},
   "outputs": [],
   "source": [
    "ICs = []\n",
    "num_ics = 50\n",
    "for i in range(0, num_ics):\n",
    "    r = rd.uniform(30, 40)\n",
    "    theta = rd.uniform(0, 1.57)\n",
    "    ICs.append([r*np.cos(theta), r*np.sin(theta)])\n",
    "    \n",
    "for i in range(0, num_ics):\n",
    "    plt.scatter(ICs[i][0],ICs[i][1])"
   ]
  },
  {
   "cell_type": "code",
   "execution_count": null,
   "metadata": {},
   "outputs": [],
   "source": [
    "Xp_final_learned = []\n",
    "Xf_final_learned = []\n",
    "Xp_final_actual = []\n",
    "Xf_final_actual = []\n",
    "#t = np.array([i for i in range(0, N+1)])\n",
    "x_learned = np.zeros(2)\n",
    "x_actual = np.zeros(2)\n",
    "fig, (ax1, ax2) = plt.subplots(1, 2, figsize=(15,10))\n",
    "fig.suptitle('Horizontally stacked subplots')\n",
    "for ic in ICs:\n",
    "    ic_s = scaler.transform(np.array([ic]))\n",
    "    x_learned = np.array(ic_s)\n",
    "    x_actual[0] = ic[0]\n",
    "    x_actual[1] = ic[1]\n",
    "    X_learned = []\n",
    "    X_actual = []\n",
    "    X_learned.append([x_learned[0][0], x_learned[0][1]]) ## ICs\n",
    "    X_actual.append(np.array([x_actual[0], x_actual[1]])) \n",
    "    for k in range(0, n-1):\n",
    "        y_learned = np.matmul(KxT_num.T, psixpT.eval(feed_dict={xpT_feed: x_learned}).T)[0:2].T\n",
    "        x_learned = y_learned\n",
    "        X_learned.append([x_learned[0][0], x_learned[0][1]]) \n",
    "        #print(k)\n",
    "    X_actual = scipy.integrate.odeint(toggle_switch, x_actual, t, args=args)\n",
    "    #Xp_learned = X_learned[0:-1]\n",
    "    #Xf_learned = X_learned[1:]\n",
    "    #Xp_actual = X_actual[0:-1]\n",
    "    #Xf_actual = X_actual[1:]   \n",
    "    X_learned = scaler.inverse_transform(X_learned)\n",
    "    ax1.scatter(t, np.array(X_actual).T[0])\n",
    "    ax1.plot(t, np.array(X_learned).T[0])\n",
    "    ax2.scatter(t, np.array(X_actual).T[1])\n",
    "    ax2.plot(t, np.array(X_learned).T[1])\n",
    "    #Xp_final_learned = Xp_final_learned + Xp_learned\n",
    "    #Xf_final_learned = Xf_final_learned + Xf_learned\n",
    "    #Xp_final_actual = Xp_final_actual + Xp_actual\n",
    "    #Xf_final_actual = Xf_final_actual + Xf_actual\n",
    "    "
   ]
  },
  {
   "cell_type": "code",
   "execution_count": null,
   "metadata": {},
   "outputs": [],
   "source": [
    "\n",
    "Xp_final_learned = []\n",
    "Xf_final_learned = []\n",
    "Xp_final_actual = []\n",
    "Xf_final_actual = []\n",
    "#t = np.array([i for i in range(0, N+1)])\n",
    "x_learned = np.zeros(2)\n",
    "x_actual = np.zeros(2)\n",
    "fig, (ax1, ax2) = plt.subplots(1, 2, figsize=(15,10))\n",
    "fig.suptitle('Horizontally stacked subplots')\n",
    "for ic in ICs:\n",
    "    ic_s = scaler.transform(np.array([ic]))\n",
    "    x_learned = np.array(ic_s)\n",
    "    x_actual[0] = ic[0]\n",
    "    x_actual[1] = ic[1]\n",
    "    X_learned = []\n",
    "    X_actual = []\n",
    "    X_learned.append([x_learned[0][0], x_learned[0][1]]) ## ICs\n",
    "    X_actual.append(np.array([x_actual[0], x_actual[1]])) "
   ]
  },
  {
   "cell_type": "code",
   "execution_count": null,
   "metadata": {},
   "outputs": [],
   "source": [
    "ic_s"
   ]
  },
  {
   "cell_type": "code",
   "execution_count": null,
   "metadata": {},
   "outputs": [],
   "source": [
    "\n",
    "Xp_final_learned = []\n",
    "Xf_final_learned = []\n",
    "Xp_final_actual = []\n",
    "Xf_final_actual = []\n",
    "#t = np.array([i for i in range(0, N+1)])\n",
    "x_learned = np.zeros(2)\n",
    "x_actual = np.zeros(2)\n",
    "fig, (ax1, ax2) = plt.subplots(1, 2, figsize=(15,10))\n",
    "fig.suptitle('Horizontally stacked subplots')\n",
    "for ic in ICs:\n",
    "    ic_s = scaler.transform(np.array([ic]))\n",
    "    x_learned = np.array(ic_s)\n",
    "    x_actual[0] = ic[0]\n",
    "    x_actual[1] = ic[1]\n",
    "    X_learned = []\n",
    "    X_actual = []\n",
    "    X_learned.append([x_learned[0][0], x_learned[0][1]]) ## ICs\n",
    "    X_actual.append(np.array([x_actual[0], x_actual[1]])) \n",
    "    for k in range(0, n-1):\n",
    "        y_learned = np.matmul(KxT_num.T, psixpT.eval(feed_dict={xpT_feed: x_learned}).T)[0:2].T\n",
    "        x_learned = y_learned\n",
    "        X_learned.append([x_learned[0][0], x_learned[0][1]]) \n",
    "        #print(k)\n",
    "    X_actual = scipy.integrate.odeint(toggle_switch, x_actual, t, args=args)\n",
    "    #Xp_learned = X_learned[0:-1]\n",
    "    #Xf_learned = X_learned[1:]\n",
    "    #Xp_actual = X_actual[0:-1]\n",
    "    #Xf_actual = X_actual[1:]   \n",
    "    X_learned = scaler.inverse_transform(X_learned)\n",
    "    ax1.scatter(t, np.array(X_actual).T[0])\n",
    "    ax1.plot(t, np.array(X_learned).T[0])\n",
    "    ax2.scatter(t, np.array(X_actual).T[1])\n",
    "    ax2.plot(t, np.array(X_learned).T[1])\n",
    "    #Xp_final_learned = Xp_final_learned + Xp_learned\n",
    "    #Xf_final_learned = Xf_final_learned + Xf_learned\n",
    "    #Xp_final_actual = Xp_final_actual + Xp_actual\n",
    "    #Xf_final_actual = Xf_final_actual + Xf_actual\n",
    "    "
   ]
  },
  {
   "cell_type": "code",
   "execution_count": null,
   "metadata": {},
   "outputs": [],
   "source": [
    "sess1.close()"
   ]
  },
  {
   "cell_type": "code",
   "execution_count": null,
   "metadata": {},
   "outputs": [],
   "source": [
    "x1 = np.linspace(0, 20, n)\n",
    "x2 = np.linspace(0, 20, n)\n",
    "\n",
    "x_c = np.linspace(-10, 10, n)\n",
    "y_c = np.linspace(-10, 10, n)\n",
    "\n",
    "X, Y = np.meshgrid(x1, x2)\n",
    "\n",
    "#psixpT.eval(feed_dict={xpT_feed: x_learned}).T[2]\n",
    "grid = [[np.array([[i, j]]) for i in x1] for j in x2]"
   ]
  },
  {
   "cell_type": "code",
   "execution_count": null,
   "metadata": {},
   "outputs": [],
   "source": [
    "z1 = np.zeros((x1.shape[0], x1.shape[0]))\n",
    "z2 = np.zeros((x1.shape[0], x1.shape[0]))\n",
    "Psi = []\n",
    "for i in range(0, len(grid)):\n",
    "    for j in range(0, len(grid)):\n",
    "        z1[i][j] = psixpT.eval(feed_dict={xpT_feed: grid[i][j]}).T[2]\n",
    "        z2[i][j] = psixpT.eval(feed_dict={xpT_feed: grid[i][j]}).T[3]\n",
    "        Psi.append([z1[i][j], z2[i][j]])\n",
    "Psi = np.array(Psi)"
   ]
  },
  {
   "cell_type": "code",
   "execution_count": null,
   "metadata": {},
   "outputs": [],
   "source": [
    "scaled_Psi_obs1 = scaler.inverse_transform(Psi)[:, 0].reshape(len(grid), len(grid))\n",
    "scaled_Psi_obs2 = scaler.inverse_transform(Psi)[:, 1].reshape(len(grid), len(grid))"
   ]
  },
  {
   "cell_type": "code",
   "execution_count": null,
   "metadata": {},
   "outputs": [],
   "source": [
    "fig = plt.figure()\n",
    "ax  = plt.axes(projection='3d')\n",
    "ax.contour3D(X, Y, z1, 50, cmap='binary')"
   ]
  },
  {
   "cell_type": "code",
   "execution_count": null,
   "metadata": {},
   "outputs": [],
   "source": [
    "fig = plt.figure()\n",
    "ax  = plt.axes(projection='3d')\n",
    "ax.contour3D(X, Y, z2, 50, cmap='binary')"
   ]
  },
  {
   "cell_type": "markdown",
   "metadata": {},
   "source": [
    "def gaussian(x, y, x0, y0, xalpha, yalpha, A):\n",
    "    return A * np.exp( -((x-x0)/xalpha)**2 -((y-y0)/yalpha)**2)\n",
    "\n",
    "# A list of the Gaussian parameters: x0, y0, xalpha, yalpha, A\n",
    "gprms = [(0, 2, 2.5, 5.4, 1.5),\n",
    "         (-1, 4, 6, 2.5, 1.8),\n",
    "         (-3, -0.5, 1, 2, 4),\n",
    "         (3, 0.5, 2, 1, 5)\n",
    "        ]\n",
    "\n",
    "# Standard deviation of normally-distributed noise to add in generating\n",
    "# our test function to fit.\n",
    "noise_sigma = 0.1\n",
    "\n",
    "# The function to be fit is Z.\n",
    "Z = np.zeros(X.shape)\n",
    "for p in gprms:\n",
    "    Z += gaussian(X, Y, *p)\n",
    "Z += noise_sigma * np.random.randn(*Z.shape)\n",
    "\n",
    "# Plot the 3D figure of the fitted function and the residuals.\n",
    "fig = plt.figure()\n",
    "ax = fig.gca(projection='3d')\n",
    "ax.plot_surface(X, Y, Z, cmap='plasma')\n",
    "ax.set_zlim(0,np.max(Z)+2)\n",
    "plt.show()\n",
    "\n",
    "# This is the callable that is passed to curve_fit. M is a (2,N) array\n",
    "# where N is the total number of data points in Z, which will be ravelled\n",
    "# to one dimension.\n",
    "def _gaussian(M, *args):\n",
    "    x, y = M\n",
    "    arr = np.zeros(x.shape)\n",
    "    for i in range(len(args)//5):\n",
    "       arr += gaussian(x, y, *args[i*5:i*5+5])\n",
    "    return arr\n",
    "\n",
    "# Initial guesses to the fit parameters.\n",
    "guess_prms = [(0, 0, 1, 1, 2),\n",
    "              (-1.5, 5, 5, 1, 3),\n",
    "              (-4, -1, 1.5, 1.5, 6),\n",
    "              (4, 1, 1.5, 1.5, 6.5)\n",
    "             ]\n",
    "# Flatten the initial guess parameter list.\n",
    "p0 = [p for prms in guess_prms for p in prms]\n",
    "\n",
    "# We need to ravel the meshgrids of X, Y points to a pair of 1-D arrays.\n",
    "xdata = np.vstack((X.ravel(), Y.ravel()))\n",
    "# Do the fit, using our custom _gaussian function which understands our\n",
    "# flattened (ravelled) ordering of the data points.\n",
    "popt, pcov = curve_fit(_gaussian, xdata, Z.ravel(), p0)\n",
    "fit = np.zeros(Z.shape)\n",
    "for i in range(len(popt)//5):\n",
    "    fit += gaussian(X, Y, *popt[i*5:i*5+5])\n",
    "print('Fitted parameters:')\n",
    "print(popt)\n",
    "\n",
    "rms = np.sqrt(np.mean((Z - fit)**2))\n",
    "print('RMS residual =', rms)\n",
    "\n",
    "# Plot the 3D figure of the fitted function and the residuals.\n",
    "fig = plt.figure()\n",
    "ax = fig.gca(projection='3d')\n",
    "ax.plot_surface(X, Y, fit, cmap='plasma')\n",
    "cset = ax.contourf(X, Y, Z-fit, zdir='z', offset=-4, cmap='plasma')\n",
    "ax.set_zlim(-4,np.max(fit))\n",
    "plt.show()\n",
    "\n",
    "# Plot the test data as a 2D image and the fit as overlaid contours.\n",
    "fig = plt.figure()\n",
    "ax = fig.add_subplot(111)\n",
    "ax.imshow(Z, origin='bottom', cmap='plasma',\n",
    "          extent=(x.min(), x.max(), y.min(), y.max()))\n",
    "ax.contour(X, Y, fit, colors='w')\n",
    "plt.show()"
   ]
  },
  {
   "cell_type": "markdown",
   "metadata": {},
   "source": [
    "## Hill function fitting"
   ]
  },
  {
   "cell_type": "code",
   "execution_count": null,
   "metadata": {},
   "outputs": [],
   "source": [
    "x1 = np.linspace(0, 20, n)\n",
    "x2 = np.linspace(0, 20, n)\n",
    "\n",
    "#x_c = np.linspace(-10, 10, n)\n",
    "#y_c = np.linspace(-10, 10, n)\n",
    "\n",
    "X, Y = np.meshgrid(x1, x2)\n",
    "\n",
    "#psixpT.eval(feed_dict={xpT_feed: x_learned}).T[2]\n",
    "\n",
    "def hill_function2D(x, y, n1, n2, K11N, K12N, K11D, K12D, y_max, y_min):\n",
    "    return (y_max - y_min)*((x/K11N)**n1 + (y/K12N)**n2)/(1 + (x/K11D)**n1 + (y/K12D)**n2) + y_min\n",
    "\n",
    "# A list of the Hill function parameters: x0, y0, xalpha, yalpha, A\n",
    "hf_prms = [(2, 2, 20, 15, 12.5, 13, 10, 15)]\n",
    "\n",
    "# The function to be fit is Z.\n",
    "Z = np.zeros(X.shape)\n",
    "for p in hf_prms:\n",
    "    Z += hill_function2D(X, Y, *p)"
   ]
  },
  {
   "cell_type": "code",
   "execution_count": null,
   "metadata": {},
   "outputs": [],
   "source": [
    "# Plot the 3D figure of the fitted function and the residuals.\n",
    "fig = plt.figure()\n",
    "ax = fig.gca(projection='3d')\n",
    "ax.plot_surface(X, Y, Z, cmap='plasma')\n",
    "ax.set_zlim(0,np.max(Z)+2)\n",
    "plt.show()"
   ]
  },
  {
   "cell_type": "code",
   "execution_count": null,
   "metadata": {},
   "outputs": [],
   "source": [
    "# This is the callable that is passed to curve_fit. M is a (2,N) array\n",
    "# where N is the total number of data points in Z, which will be ravelled\n",
    "# to one dimension.\n",
    "def _hill_function2D(M, *args):\n",
    "    x, y = M\n",
    "    arr = np.zeros(x.shape)\n",
    "    print(args)\n",
    "    for i in range(len(args)//8):\n",
    "        arr += hill_function2D(x, y, *args[i*8:i*8+8])\n",
    "    return arr"
   ]
  },
  {
   "cell_type": "code",
   "execution_count": null,
   "metadata": {},
   "outputs": [],
   "source": [
    "# We need to ravel the meshgrids of X, Y points to a pair of 1-D arrays.\n",
    "xdata = np.vstack((X.ravel(), Y.ravel()))\n",
    "# Do the fit, using our custom _gaussian function which understands our\n",
    "# flattened (ravelled) ordering of the data points."
   ]
  },
  {
   "cell_type": "code",
   "execution_count": null,
   "metadata": {},
   "outputs": [],
   "source": [
    "\n",
    "learned_params = []\n",
    "# Flatten the initial guess parameter list.\n",
    "for simulation in range(0, 100):\n",
    "    print(simulation)\n",
    "    p0 =  [(np.random.randint(0, 3), np.random.randint(0, 3), np.random.randint(5, 20), np.random.randint(5, 20), np.random.randint(5, 20), np.random.randint(5, 20), np.random.randint(5, 20), np.random.randint(5, 20))]\n",
    "\n",
    "    popt, pcov = curve_fit(_hill_function2D, xdata, z1.ravel(), p0[0], bounds=(0, np.inf), maxfev = 3000);\n",
    "    fit = np.zeros(Z.shape);\n",
    "    \n",
    "    learned_params.append(popt)"
   ]
  },
  {
   "cell_type": "code",
   "execution_count": null,
   "metadata": {},
   "outputs": [],
   "source": [
    "sol = [(2, 2, 20, 15, 12.5, 13, 10, 15)]\n",
    "norm = []\n",
    "for solution in learned_params:\n",
    "    norm.append(np.linalg.norm(sol - solution))"
   ]
  },
  {
   "cell_type": "code",
   "execution_count": null,
   "metadata": {},
   "outputs": [],
   "source": [
    "#min(norm)\n",
    "norm.index(min(norm))"
   ]
  },
  {
   "cell_type": "code",
   "execution_count": null,
   "metadata": {},
   "outputs": [],
   "source": [
    "rms_list = []\n",
    "all_fits = []\n",
    "for params in learned_params:\n",
    "    fit = np.zeros(Z.shape)\n",
    "    for i in range(len(popt)//8):\n",
    "        fit += hill_function2D(X, Y, *params[i*8:i*8+8])\n",
    "    all_fits.append(fit)\n",
    "    #print('Fitted parameters:')\n",
    "    #print(params)\n",
    "\n",
    "    rms_list.append(np.sqrt(np.mean((z1 - fit)**2)))\n",
    "    #print('RMS residual =', rms)"
   ]
  },
  {
   "cell_type": "code",
   "execution_count": null,
   "metadata": {},
   "outputs": [],
   "source": [
    "rms_list.index(min(rms_list))"
   ]
  },
  {
   "cell_type": "code",
   "execution_count": null,
   "metadata": {},
   "outputs": [],
   "source": [
    "learned_params[87]"
   ]
  },
  {
   "cell_type": "code",
   "execution_count": null,
   "metadata": {},
   "outputs": [],
   "source": [
    "learned_params[71]"
   ]
  },
  {
   "cell_type": "code",
   "execution_count": null,
   "metadata": {},
   "outputs": [],
   "source": [
    "all_fits"
   ]
  },
  {
   "cell_type": "code",
   "execution_count": null,
   "metadata": {},
   "outputs": [],
   "source": [
    "\n",
    "\n",
    "\n",
    "# Plot the 3D figure of the fitted function and the residuals.\n",
    "fig = plt.figure()\n",
    "ax = fig.gca(projection='3d')\n",
    "ax.plot_surface(X, Y, all_fits[50], cmap='plasma')\n",
    "cset = ax.contourf(X, Y, z1-all_fits[50], zdir='z', offset=-4, cmap='plasma')\n",
    "ax.set_zlim(-4,np.max(fit))\n",
    "plt.show()\n",
    "\n"
   ]
  },
  {
   "cell_type": "code",
   "execution_count": null,
   "metadata": {},
   "outputs": [],
   "source": []
  }
 ],
 "metadata": {
  "kernelspec": {
   "display_name": "Python 3",
   "language": "python",
   "name": "python3"
  },
  "language_info": {
   "codemirror_mode": {
    "name": "ipython",
    "version": 3
   },
   "file_extension": ".py",
   "mimetype": "text/x-python",
   "name": "python",
   "nbconvert_exporter": "python",
   "pygments_lexer": "ipython3",
   "version": "3.7.4"
  }
 },
 "nbformat": 4,
 "nbformat_minor": 2
}
