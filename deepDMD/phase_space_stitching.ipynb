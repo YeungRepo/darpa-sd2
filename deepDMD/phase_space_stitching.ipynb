{
 "cells": [
  {
   "cell_type": "code",
   "execution_count": 29,
   "metadata": {},
   "outputs": [],
   "source": [
    "import pickle;\n",
    "import numpy as np;\n",
    "from numpy.linalg import pinv;\n",
    "from numpy.polynomial.legendre import legvander;\n",
    "import tensorflow as tf\n",
    "\n",
    "import control"
   ]
  },
  {
   "cell_type": "code",
   "execution_count": 30,
   "metadata": {},
   "outputs": [],
   "source": [
    "%matplotlib inline"
   ]
  },
  {
   "cell_type": "code",
   "execution_count": 31,
   "metadata": {},
   "outputs": [],
   "source": [
    "import cvxopt;\n",
    "import cvxpy;\n"
   ]
  },
  {
   "cell_type": "code",
   "execution_count": 35,
   "metadata": {},
   "outputs": [],
   "source": [
    "with_control = 0;\n",
    "\n",
    "sess = tf.InteractiveSession();\n",
    "\n",
    "saver = tf.train.import_meta_graph('sim_toggle_switch.pickle.ckpt.meta')\n",
    "saver.restore(sess,tf.train.latest_checkpoint('./'));\n",
    "\n",
    "psiyp = tf.get_collection('psiyp')[0];\n",
    "psiyf = tf.get_collection('psiyf')[0];\n",
    "forward_prediction = tf.get_collection('forward_prediction')[0];\n",
    "yp_feed = tf.get_collection('yp_feed')[0];\n",
    "yf_feed = tf.get_collection('yf_feed')[0];\n",
    "\n",
    "#psiu = tf.get_collection('psiu')[0];\n",
    "#u_control = tf.get_collection('u_control')[0];\n",
    "\n",
    "Kx = tf.get_collection('Kx')[0];\n",
    "#Ku = tf.get_collection('Ku')[0];\n",
    "\n",
    "Kx_num = sess.run(Kx);\n",
    "#Ku_num = sess.run(Ku);\n",
    "A = np.transpose(Kx_num); # Kx_num and Ku_num were defined using row multi. \n",
    "#B = np.transpose(Ku_num);\n",
    "C = np.eye(A.shape[0]);\n",
    "#D = np.zeros((A.shape[0],B.shape[1]));\n",
    "#sys = control.ss(A,B,C,D);\n",
    "#print control.ctrb(A,B)\n",
    "\n",
    "\n",
    "#print np.linalg.matrix_rank(control.ctrb(A,B))\n",
    "#print control.ctrb(A,B).shape\n",
    "#print yp_feed.get_shape\n",
    "\n"
   ]
  },
  {
   "cell_type": "code",
   "execution_count": 36,
   "metadata": {},
   "outputs": [
    {
     "data": {
      "text/plain": [
       "<matplotlib.collections.PathCollection at 0x1139e0f10>"
      ]
     },
     "execution_count": 36,
     "metadata": {},
     "output_type": "execute_result"
    },
    {
     "data": {
      "image/png": "[encoded data removed]",
      "text/plain": [
       "<matplotlib.figure.Figure at 0x113cc7910>"
      ]
     },
     "metadata": {},
     "output_type": "display_data"
    }
   ],
   "source": [
    "D,V = np.linalg.eig(Kx_num)\n",
    "import matplotlib.pyplot as plt; \n",
    "%matplotlib inline \n",
    "plt.scatter(np.real(D),np.imag(D))\n",
    "\n"
   ]
  },
  {
   "cell_type": "code",
   "execution_count": 66,
   "metadata": {},
   "outputs": [
    {
     "data": {
      "text/plain": [
       "[<matplotlib.lines.Line2D at 0x117823210>,\n",
       " <matplotlib.lines.Line2D at 0x117863950>]"
      ]
     },
     "execution_count": 66,
     "metadata": {},
     "output_type": "execute_result"
    },
    {
     "data": {
      "image/png": "[encoded data removed]",
      "text/plain": [
       "<matplotlib.figure.Figure at 0x10b137610>"
      ]
     },
     "metadata": {},
     "output_type": "display_data"
    }
   ],
   "source": [
    "num_steps = 200; \n",
    "bas_obs = 2; \n",
    "phys_init_cond =np.random.rand(1,2);\n",
    "temp_phys_cond = phys_init_cond; \n",
    "state_traj = np.zeros((num_steps,bas_obs));\n",
    "for ind in range(0,num_steps):\n",
    "    temp_phys_cond = sess.run(forward_prediction,feed_dict={yp_feed:temp_phys_cond[:,0:2]});\n",
    "    \n",
    "    state_traj[ind,0:] = temp_phys_cond[:,0:2];\n",
    "    \n",
    "#np.matmul(Kx_num, \n",
    "plt.plot(state_traj,'.-',markersize=20)"
   ]
  },
  {
   "cell_type": "code",
   "execution_count": 67,
   "metadata": {},
   "outputs": [
    {
     "ename": "NameError",
     "evalue": "name 'file_obj' is not defined",
     "output_type": "error",
     "traceback": [
      "\u001b[0;31m---------------------------------------------------------------------------\u001b[0m",
      "\u001b[0;31mNameError\u001b[0m                                 Traceback (most recent call last)",
      "\u001b[0;32m<ipython-input-67-ced5473926a4>\u001b[0m in \u001b[0;36m<module>\u001b[0;34m()\u001b[0m\n\u001b[1;32m      2\u001b[0m \u001b[0;31m#file_obj = file('h2synthesis/controller_matrices.pickle','wb');\u001b[0m\u001b[0;34m\u001b[0m\u001b[0;34m\u001b[0m\u001b[0m\n\u001b[1;32m      3\u001b[0m \u001b[0;31m#pickle.dump([A,B,C],file_obj,);\u001b[0m\u001b[0;34m\u001b[0m\u001b[0;34m\u001b[0m\u001b[0m\n\u001b[0;32m----> 4\u001b[0;31m \u001b[0mfile_obj\u001b[0m\u001b[0;34m.\u001b[0m\u001b[0mclose\u001b[0m\u001b[0;34m(\u001b[0m\u001b[0;34m)\u001b[0m\u001b[0;34m;\u001b[0m\u001b[0;34m\u001b[0m\u001b[0m\n\u001b[0m",
      "\u001b[0;31mNameError\u001b[0m: name 'file_obj' is not defined"
     ]
    }
   ],
   "source": [
    "#scipy.io.savemat('h2synthesis/state_space_model.mat',mdict={'A':A,'B':B,'C':C}) #Av,Bv,Cv\n",
    "#file_obj = file('h2synthesis/controller_matrices.pickle','wb');\n",
    "#pickle.dump([A,B,C],file_obj,);\n",
    "file_obj.close();"
   ]
  },
  {
   "cell_type": "code",
   "execution_count": null,
   "metadata": {},
   "outputs": [],
   "source": []
  },
  {
   "cell_type": "code",
   "execution_count": null,
   "metadata": {},
   "outputs": [],
   "source": []
  }
 ],
 "metadata": {
  "kernelspec": {
   "display_name": "Python 2",
   "language": "python",
   "name": "python2"
  },
  "language_info": {
   "codemirror_mode": {
    "name": "ipython",
    "version": 2
   },
   "file_extension": ".py",
   "mimetype": "text/x-python",
   "name": "python",
   "nbconvert_exporter": "python",
   "pygments_lexer": "ipython2",
   "version": "2.7.10"
  }
 },
 "nbformat": 4,
 "nbformat_minor": 2
}
